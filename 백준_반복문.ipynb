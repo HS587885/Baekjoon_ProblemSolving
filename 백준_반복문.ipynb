{
  "nbformat": 4,
  "nbformat_minor": 0,
  "metadata": {
    "colab": {
      "name": "백준_반복문.ipynb",
      "provenance": [],
      "collapsed_sections": [],
      "include_colab_link": true
    },
    "kernelspec": {
      "name": "python3",
      "display_name": "Python 3"
    },
    "language_info": {
      "name": "python"
    }
  },
  "cells": [
    {
      "cell_type": "markdown",
      "metadata": {
        "id": "view-in-github",
        "colab_type": "text"
      },
      "source": [
        "<a href=\"https://colab.research.google.com/github/HS587885/Baekjoon_ProblemSolving/blob/main/%EB%B0%B1%EC%A4%80_%EB%B0%98%EB%B3%B5%EB%AC%B8.ipynb\" target=\"_parent\"><img src=\"https://colab.research.google.com/assets/colab-badge.svg\" alt=\"Open In Colab\"/></a>"
      ]
    },
    {
      "cell_type": "code",
      "execution_count": null,
      "metadata": {
        "colab": {
          "base_uri": "https://localhost:8080/"
        },
        "id": "LnJRltW2VuWi",
        "outputId": "54452b62-9be4-444f-9ac4-064dfc33dd49"
      },
      "outputs": [
        {
          "output_type": "stream",
          "name": "stdout",
          "text": [
            "5\n",
            "5 * 1 = 5\n",
            "5 * 2 = 10\n",
            "5 * 3 = 15\n",
            "5 * 4 = 20\n",
            "5 * 5 = 25\n",
            "5 * 6 = 30\n",
            "5 * 7 = 35\n",
            "5 * 8 = 40\n",
            "5 * 9 = 45\n"
          ]
        }
      ],
      "source": [
        "#1\n",
        "n = int(input())\n",
        "\n",
        "for i in range(1,10):\n",
        "    print(n, \"*\", i, \"=\", n*i)"
      ]
    },
    {
      "cell_type": "code",
      "source": [
        "#2\n",
        "t  = int(input())\n",
        "\n",
        "for _ in range(t):\n",
        "\ta,b = map(int, input().split())\n",
        "\tprint(a+b)"
      ],
      "metadata": {
        "id": "IlLSUdEcV4Yb"
      },
      "execution_count": null,
      "outputs": []
    },
    {
      "cell_type": "code",
      "source": [
        "#3\n",
        "a = int(input())\n",
        "b=0\n",
        "for i in range(1,a+1):\n",
        "    b= b+i\n",
        "    \n",
        "print(b)"
      ],
      "metadata": {
        "id": "enmQtHryV4bB"
      },
      "execution_count": null,
      "outputs": []
    },
    {
      "cell_type": "code",
      "source": [
        "#4\n",
        "import sys\n",
        "t = int(input())\n",
        "\n",
        "for i in range(t):\n",
        "    a,b = map(int, sys.stdin.readline().split())\n",
        "    print(a+b)"
      ],
      "metadata": {
        "id": "Y1WPFM1JV4dk"
      },
      "execution_count": null,
      "outputs": []
    },
    {
      "cell_type": "code",
      "source": [
        "#5\n",
        "n = int(input())\n",
        "\n",
        "for i in range(1,n+1):\n",
        "\tprint(i)"
      ],
      "metadata": {
        "id": "escJBQuSV4f9"
      },
      "execution_count": null,
      "outputs": []
    },
    {
      "cell_type": "code",
      "source": [
        "#6\n",
        "n = int(input())\n",
        "\n",
        "for i in range(n,0, -1):\n",
        "\tprint(i)"
      ],
      "metadata": {
        "id": "_eb9s-_lV4iX"
      },
      "execution_count": null,
      "outputs": []
    },
    {
      "cell_type": "code",
      "source": [
        "#7   \n",
        "t = int(input())\n",
        "\n",
        "for i in range(t):\n",
        "\ta,b = map(int,input().split())\n",
        "\tresult = a + b\n",
        "\tprint(\"Case #%d: %d\" % (i+1, result))"
      ],
      "metadata": {
        "id": "8OeJFIbfV4kx"
      },
      "execution_count": null,
      "outputs": []
    },
    {
      "cell_type": "code",
      "source": [
        "#8 \n",
        "num = int(input())\n",
        "for i in range(num):\n",
        "    a,b = map(int, input().split())\n",
        "    print(\"Case #{}: {} + {} = {}\".format(i+1, a, b, a+b))"
      ],
      "metadata": {
        "id": "Av3aoO3XV4nN"
      },
      "execution_count": null,
      "outputs": []
    },
    {
      "cell_type": "code",
      "source": [
        "#9\n",
        "n = int(input())\n",
        "for i in range(1,n+1):\n",
        "  print('*' * i)"
      ],
      "metadata": {
        "colab": {
          "base_uri": "https://localhost:8080/"
        },
        "id": "8wV2iKEYV4qt",
        "outputId": "c5afba9c-4a1f-4f2e-ad1b-f158c1d9a46e"
      },
      "execution_count": null,
      "outputs": [
        {
          "output_type": "stream",
          "name": "stdout",
          "text": [
            "5\n",
            "*\n",
            "**\n",
            "***\n",
            "****\n",
            "*****\n"
          ]
        }
      ]
    },
    {
      "cell_type": "code",
      "source": [
        "#10\n",
        "T = int(input())\n",
        "for i in range(1,T+1):\n",
        "    print(' '*(T-i),'*' * i, sep='')"
      ],
      "metadata": {
        "colab": {
          "base_uri": "https://localhost:8080/"
        },
        "id": "gu9SKy9rZUDB",
        "outputId": "b1136433-39f7-4fa6-a62e-71cf119eee27"
      },
      "execution_count": null,
      "outputs": [
        {
          "output_type": "stream",
          "name": "stdout",
          "text": [
            "5\n",
            "    *\n",
            "   **\n",
            "  ***\n",
            " ****\n",
            "*****\n"
          ]
        }
      ]
    },
    {
      "cell_type": "code",
      "source": [
        "#11\n",
        "n,m = map(int,input().split())\n",
        "n1 = list(map(int,input().split()))\n",
        "\n",
        "for n in n1:\n",
        "    if n < m:\n",
        "        print(n, end=' ')"
      ],
      "metadata": {
        "colab": {
          "base_uri": "https://localhost:8080/"
        },
        "id": "8GfbJwb0ZUFL",
        "outputId": "b5bbb517-baf5-47fe-fb8a-2b103860054f"
      },
      "execution_count": null,
      "outputs": [
        {
          "name": "stdout",
          "output_type": "stream",
          "text": [
            "5 6\n",
            "6\n"
          ]
        }
      ]
    },
    {
      "cell_type": "code",
      "source": [
        "#12\n",
        "while True:\n",
        "    a,b = map(int, input().split())  \n",
        "    if a == 0 and b == 0:\n",
        "        break\n",
        "    else:\n",
        "        print(a+b)\n",
        "    "
      ],
      "metadata": {
        "id": "rWRBMri7ZUHf"
      },
      "execution_count": null,
      "outputs": []
    },
    {
      "cell_type": "code",
      "source": [
        "#13\n",
        "while True: \n",
        "  try: \n",
        "    a, b = map(int, input().split())\n",
        "    print(a+b) \n",
        "  except: \n",
        "    break"
      ],
      "metadata": {
        "id": "GtPyYhSVZUJs"
      },
      "execution_count": null,
      "outputs": []
    },
    {
      "cell_type": "code",
      "source": [
        "#14\n",
        "N = int(input())\n",
        "n = N\n",
        "i = 0\n",
        "while True:\n",
        "    a = n//10\n",
        "    b = n%10\n",
        "    c = (a+b)%10\n",
        "    n = 10*b+c\n",
        "    i = i + 1\n",
        "    if(N==n):\n",
        "        break\n",
        "print(i)"
      ],
      "metadata": {
        "colab": {
          "base_uri": "https://localhost:8080/"
        },
        "id": "ySiQ0C16ZUNK",
        "outputId": "cb980b6b-419d-4e75-a03a-5dcb36273b4b"
      },
      "execution_count": null,
      "outputs": [
        {
          "output_type": "stream",
          "name": "stdout",
          "text": [
            "71\n",
            "12\n"
          ]
        }
      ]
    }
  ]
}