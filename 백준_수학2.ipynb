{
  "nbformat": 4,
  "nbformat_minor": 0,
  "metadata": {
    "colab": {
      "name": "백준_수학2.ipynb",
      "provenance": [],
      "authorship_tag": "ABX9TyNdmtS3YPj908cKWNy+k9m3",
      "include_colab_link": true
    },
    "kernelspec": {
      "name": "python3",
      "display_name": "Python 3"
    },
    "language_info": {
      "name": "python"
    }
  },
  "cells": [
    {
      "cell_type": "markdown",
      "metadata": {
        "id": "view-in-github",
        "colab_type": "text"
      },
      "source": [
        "<a href=\"https://colab.research.google.com/github/HS587885/Baekjoon_ProblemSolving/blob/main/%EB%B0%B1%EC%A4%80_%EC%88%98%ED%95%992.ipynb\" target=\"_parent\"><img src=\"https://colab.research.google.com/assets/colab-badge.svg\" alt=\"Open In Colab\"/></a>"
      ]
    },
    {
      "cell_type": "code",
      "execution_count": null,
      "metadata": {
        "colab": {
          "base_uri": "https://localhost:8080/"
        },
        "id": "LONsxgqsXStI",
        "outputId": "ac8ae7f2-a970-440f-8623-e6ca05286d78"
      },
      "outputs": [
        {
          "output_type": "stream",
          "name": "stdout",
          "text": [
            "2\n",
            "25 5 46 8\n",
            "1\n"
          ]
        }
      ],
      "source": [
        "#소수 찾기\n",
        "N = int(input())\n",
        "num_lst = list(map(int, input().split()))\n",
        "prime_num = 0\n",
        "\n",
        "for i in num_lst:\n",
        "    cnt = 0\n",
        "    for j in range(1, i+1):\n",
        "        if i % j == 0:\n",
        "            cnt += 1\n",
        "    if cnt == 2:\n",
        "        prime_num += 1\n",
        "\n",
        "print(prime_num)"
      ]
    },
    {
      "cell_type": "code",
      "source": [
        "# 소수\n",
        "N = int(input())\n",
        "M = int(input())\n",
        "lst = []\n",
        "for k in range(N, M+1):\n",
        "  lst.append(k)\n",
        "\n",
        "\n",
        "prime_lst = []\n",
        "for i in lst:\n",
        "  cnt = 0\n",
        "  for j in range(1, i+1):\n",
        "      if i % j == 0:\n",
        "          cnt += 1\n",
        "  if cnt == 2:\n",
        "      prime_lst.append(i)\n",
        "\n",
        "if prime_lst == []:\n",
        "  print(-1)\n",
        "else:\n",
        "  print(sum(prime_lst))\n",
        "  print(min(prime_lst))"
      ],
      "metadata": {
        "colab": {
          "base_uri": "https://localhost:8080/"
        },
        "id": "fmEHHBNvrCab",
        "outputId": "8a40ea39-3d78-4a14-aa26-7e825f9f3051"
      },
      "execution_count": null,
      "outputs": [
        {
          "output_type": "stream",
          "name": "stdout",
          "text": [
            "1\n",
            "10\n",
            "17\n",
            "2\n"
          ]
        }
      ]
    },
    {
      "cell_type": "code",
      "source": [
        "#소인수분해 \n",
        "N = int(input())\n",
        "d = 2\n",
        "\n",
        "while d <= N:\n",
        "  if N % d == 0:\n",
        "    if(N // d ==1):\n",
        "      print(d) \n",
        "    else:\n",
        "      print(d) \n",
        "    N = N // d \n",
        "  else:\n",
        "    d = d + 1\n",
        "\n",
        "\n"
      ],
      "metadata": {
        "colab": {
          "base_uri": "https://localhost:8080/"
        },
        "id": "ttD8slr8vs0O",
        "outputId": "2b7e7abf-dc55-4ffe-fa34-6b76f600d651"
      },
      "execution_count": null,
      "outputs": [
        {
          "output_type": "stream",
          "name": "stdout",
          "text": [
            "72\n",
            "2\n",
            "2\n",
            "2\n",
            "3\n",
            "3\n"
          ]
        }
      ]
    },
    {
      "cell_type": "code",
      "source": [
        "# 소수구하기\n",
        "\n",
        "def prime_num(N, M):\n",
        "  for i in range(N, M + 1):\n",
        "    cnt = 0\n",
        "    for j in range(1, i +1):\n",
        "      if i % j == 0:\n",
        "        cnt += 1\n",
        "    if cnt == 2:\n",
        "      print(i)"
      ],
      "metadata": {
        "id": "6AL2U28ZlhZx"
      },
      "execution_count": null,
      "outputs": []
    },
    {
      "cell_type": "code",
      "source": [
        "N, M =map(int,input().split())\n",
        "prime_num(N, M)"
      ],
      "metadata": {
        "colab": {
          "base_uri": "https://localhost:8080/"
        },
        "id": "A3w2oVZi4oPA",
        "outputId": "450382bc-81fb-437c-dbe2-a164c058ad47"
      },
      "execution_count": null,
      "outputs": [
        {
          "output_type": "stream",
          "name": "stdout",
          "text": [
            "3 16\n",
            "3\n",
            "5\n",
            "7\n",
            "11\n",
            "13\n"
          ]
        }
      ]
    },
    {
      "cell_type": "code",
      "source": [
        "# 소수구하기 2\n",
        "def prime(num):\n",
        "  if num < 2:\n",
        "    return False\n",
        "  i = 2\n",
        "  \n",
        "  while i * i <= num:\n",
        "    if num % i == 0:\n",
        "      return False\n",
        "\n",
        "    i += 1\n",
        "  return True\n",
        "\n",
        "m, n = map(int, input().split())\n",
        "\n",
        "for i in range(m, n+1):\n",
        "  if prime(i):\n",
        "    print(i)"
      ],
      "metadata": {
        "colab": {
          "base_uri": "https://localhost:8080/"
        },
        "id": "CAWyHX7B2fXt",
        "outputId": "173ab78c-10c1-4c6d-dc37-e1262fe99a3c"
      },
      "execution_count": null,
      "outputs": [
        {
          "output_type": "stream",
          "name": "stdout",
          "text": [
            "3 16\n",
            "3\n",
            "5\n",
            "7\n",
            "11\n",
            "13\n"
          ]
        }
      ]
    },
    {
      "cell_type": "code",
      "source": [
        "# 베르트랑 공준\n",
        "\n",
        "\n",
        "N = int(input())\n",
        "\n",
        "lst = []\n",
        "for k in range(N + 1, (2 * N+1)):\n",
        "  lst.append(k)\n",
        "\n",
        "\n",
        "prime_lst = []\n",
        "for i in lst:\n",
        "  cnt = 0\n",
        "  for j in range(1, i+1):\n",
        "      if i % j == 0:\n",
        "          cnt += 1\n",
        "  if cnt == 2:\n",
        "      prime_lst.append(i)\n",
        "\n",
        "if N == 1:\n",
        "  print(1)\n",
        "else:\n",
        "  print(len(prime_lst))\n",
        " \n"
      ],
      "metadata": {
        "colab": {
          "base_uri": "https://localhost:8080/"
        },
        "id": "Bz77LNOwA05e",
        "outputId": "d71007e9-24bb-484c-ee71-22a97cc62250"
      },
      "execution_count": null,
      "outputs": [
        {
          "output_type": "stream",
          "name": "stdout",
          "text": [
            "1000\n",
            "135\n"
          ]
        }
      ]
    },
    {
      "cell_type": "code",
      "source": [
        "lst"
      ],
      "metadata": {
        "colab": {
          "base_uri": "https://localhost:8080/"
        },
        "id": "Ygaxht5dA04G",
        "outputId": "660cfe8d-5f7e-48bd-c644-ed96f69552f5"
      },
      "execution_count": null,
      "outputs": [
        {
          "output_type": "execute_result",
          "data": {
            "text/plain": [
              "[10, 11, 12, 13, 14, 15, 16, 17, 18, 19, 20]"
            ]
          },
          "metadata": {},
          "execution_count": 44
        }
      ]
    },
    {
      "cell_type": "code",
      "source": [
        "prime_lst"
      ],
      "metadata": {
        "colab": {
          "base_uri": "https://localhost:8080/"
        },
        "id": "qlxT81JYrJba",
        "outputId": "dd2083df-ecbb-41ca-8162-5e4a211c0c5c"
      },
      "execution_count": null,
      "outputs": [
        {
          "output_type": "execute_result",
          "data": {
            "text/plain": [
              "[11, 13, 17, 19]"
            ]
          },
          "metadata": {},
          "execution_count": 45
        }
      ]
    },
    {
      "cell_type": "code",
      "source": [
        "# 주어진 범위 내에서 소수를 먼저 모두 구해놓고 범위를 제한\n",
        "\n",
        "num = []\n",
        "\n",
        "\n",
        "for i in range(2, 246913):\n",
        "    cnt = 0\n",
        "\n",
        "    for p in range(2, int(i**0.5)+1):\n",
        "        if i % p == 0:\n",
        "            cnt += 1\n",
        "            break\n",
        "\n",
        "    if cnt == 0:\n",
        "      num.append(i)\n",
        "\n",
        "while True:\n",
        "    n = int(input())\n",
        "    res = 0\n",
        "\n",
        "    if n == 0:\n",
        "        break\n",
        "\n",
        "    for i in num:\n",
        "        if n < i <= 2*n:\n",
        "            res += 1\n",
        "\n",
        "    print(res)"
      ],
      "metadata": {
        "colab": {
          "base_uri": "https://localhost:8080/"
        },
        "id": "mRTn8Dz8rT5-",
        "outputId": "06c45a8e-f7f5-460f-bc04-2f863d29ab66"
      },
      "execution_count": null,
      "outputs": [
        {
          "name": "stdout",
          "output_type": "stream",
          "text": [
            "13\n",
            "3\n",
            "100\n",
            "21\n",
            "1000\n",
            "135\n",
            "10000\n",
            "1033\n",
            "100000\n",
            "8392\n",
            "0\n"
          ]
        }
      ]
    },
    {
      "cell_type": "code",
      "source": [
        "# 골드바흐의 추측\n",
        "import math\n",
        "\n",
        "def 소수판별(n: int):\n",
        "    if 2<=n <=3 :\n",
        "        return True\n",
        "        \n",
        "    else:\n",
        "        sqrt = int(math.sqrt(n))\n",
        "        for j in range(2,sqrt+1):                     \n",
        "            if  n%j == 0:\n",
        "                return False\n",
        "                break\n",
        "                    \n",
        "            else:\n",
        "                if j < sqrt:\n",
        "                    continue\n",
        "                else:\n",
        "                    return True\n",
        "\n",
        "def 골드바흐찾기(x: int):\n",
        "    \n",
        "    비교수 = int(x/2)\n",
        "\n",
        "    if 소수판별(비교수) ==True:\n",
        "            print(비교수,비교수)\n",
        "\n",
        "    else:\n",
        "        if 비교수%2 ==1:\n",
        "            for i in range(비교수,1,-2): \n",
        "#반으로 나눈게 소수가 아니면 그보다 작은 소수를 찾아내 뺀 값과 빼진 값이 소수인지 확인\n",
        "                if 소수판별(x-i) == True and 소수판별(i) == True:\n",
        "                    print(i,x-i)\n",
        "                    break\n",
        "        else:\n",
        "            for i in range(비교수-1,1,-2):\n",
        "#반으로 나눈 수가 짝수면, 예를들어 16 = (8,8) 이므로 홀수만 생각해야하므로 -1 만큼 빼줌\n",
        "#반으로 나눈게 소수가 아니면 그보다 작은 소수를 찾아내 뺀 값과 빼진 값이 소수인지 확인\n",
        "                if 소수판별(x-i) == True and 소수판별(i) == True:\n",
        "                    print(i,x-i)\n",
        "                    break\n",
        "            \n",
        "\n",
        "#--------실행부------------\n",
        "\n",
        "T = int(input())\n",
        "for i in range(T):\n",
        "        x = int(input())\n",
        "        골드바흐찾기(x)\n",
        "\n",
        "\n"
      ],
      "metadata": {
        "colab": {
          "base_uri": "https://localhost:8080/"
        },
        "id": "p-InT9bR2zX1",
        "outputId": "5f6401aa-0a88-43cc-b9fe-5cfb49824092"
      },
      "execution_count": null,
      "outputs": [
        {
          "output_type": "stream",
          "name": "stdout",
          "text": [
            "2\n",
            "5594\n",
            "2797 2797\n",
            "3648\n",
            "1801 1847\n"
          ]
        }
      ]
    },
    {
      "cell_type": "code",
      "source": [
        "\n",
        "    "
      ],
      "metadata": {
        "id": "oNADYGrwCO8G"
      },
      "execution_count": null,
      "outputs": []
    }
  ]
}