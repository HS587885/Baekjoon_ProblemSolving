{
  "nbformat": 4,
  "nbformat_minor": 0,
  "metadata": {
    "colab": {
      "name": " 백준_수학1.ipynb",
      "provenance": [],
      "collapsed_sections": [],
      "include_colab_link": true
    },
    "kernelspec": {
      "name": "python3",
      "display_name": "Python 3"
    },
    "language_info": {
      "name": "python"
    }
  },
  "cells": [
    {
      "cell_type": "markdown",
      "metadata": {
        "id": "view-in-github",
        "colab_type": "text"
      },
      "source": [
        "<a href=\"https://colab.research.google.com/github/HS587885/Baekjoon_ProblemSolving/blob/main/%EB%B0%B1%EC%A4%80_%EC%88%98%ED%95%991.ipynb\" target=\"_parent\"><img src=\"https://colab.research.google.com/assets/colab-badge.svg\" alt=\"Open In Colab\"/></a>"
      ]
    },
    {
      "cell_type": "code",
      "execution_count": null,
      "metadata": {
        "colab": {
          "base_uri": "https://localhost:8080/"
        },
        "id": "PGpCvnRPHuOq",
        "outputId": "1716b72b-c384-4044-afc1-cb74afc78cf0"
      },
      "outputs": [
        {
          "output_type": "stream",
          "name": "stdout",
          "text": [
            "3 2 1\n",
            "-1\n"
          ]
        }
      ],
      "source": [
        "\n",
        "# 손익분기점\n",
        "A,B,C = map(int, input().split())\n",
        "\n",
        "if B >= C:\n",
        "  print(-1)\n",
        "else:\n",
        "  print(A//(C-B) +1)"
      ]
    },
    {
      "cell_type": "code",
      "source": [
        "# 벌집\n",
        "\n",
        "N = int(input())\n",
        "\n",
        "cnt = 1\n",
        "num = 1\n",
        "\n",
        "\n",
        "while N > num:\n",
        "  num += 6 * cnt\n",
        "  cnt += 1\n",
        "print(cnt)"
      ],
      "metadata": {
        "colab": {
          "base_uri": "https://localhost:8080/"
        },
        "id": "puDuVVXiI1j6",
        "outputId": "860895fb-a92d-4ed5-c2e7-6ce0a6e182da"
      },
      "execution_count": null,
      "outputs": [
        {
          "output_type": "stream",
          "name": "stdout",
          "text": [
            "13\n",
            "3\n"
          ]
        }
      ]
    },
    {
      "cell_type": "code",
      "source": [
        "#벌집\n",
        "num = int(input())\n",
        "\n",
        "room = 1\n",
        "\n",
        "n = 1\n",
        "\n",
        "while num > room:\n",
        "    room += n*6\n",
        "    n += 1\n",
        "print(n)"
      ],
      "metadata": {
        "colab": {
          "base_uri": "https://localhost:8080/"
        },
        "id": "zA8QC0IJuC2Z",
        "outputId": "fc5e178e-a6f0-4d42-f9f5-1013040f3792"
      },
      "execution_count": null,
      "outputs": [
        {
          "output_type": "stream",
          "name": "stdout",
          "text": [
            "1\n",
            "1\n"
          ]
        }
      ]
    },
    {
      "cell_type": "code",
      "source": [
        "n = int(input())\n",
        "math =  []\n",
        "for x in range(1,15):\n",
        "  for y in range(1,15):\n",
        "    math.append(f'{x}/{y}')\n",
        "math[n-1]"
      ],
      "metadata": {
        "colab": {
          "base_uri": "https://localhost:8080/",
          "height": 54
        },
        "id": "_z1mjKtoL-a1",
        "outputId": "e41668e9-0eb6-4bd9-d75d-a7f2cc0e3f76"
      },
      "execution_count": null,
      "outputs": [
        {
          "name": "stdout",
          "output_type": "stream",
          "text": [
            "1\n"
          ]
        },
        {
          "output_type": "execute_result",
          "data": {
            "text/plain": [
              "'1/1'"
            ],
            "application/vnd.google.colaboratory.intrinsic+json": {
              "type": "string"
            }
          },
          "metadata": {},
          "execution_count": 13
        }
      ]
    },
    {
      "cell_type": "code",
      "source": [
        "#분수 찾기\n",
        "x=int(input())\n",
        "line=1\n",
        "while True:\n",
        "    if x<=sum(range(1,line+1)):\n",
        "        break\n",
        "    line+=1\n",
        "line_seq = x-sum(range(1,line))\n",
        "if line % 2==0: # 짝수 라인\n",
        "    a = line_seq #분모\n",
        "    b = line+1-line_seq#분자\n",
        "else: # 홀수 라인\n",
        "    a = line+1-line_seq #분모\n",
        "    b = line_seq #분자\n",
        "print(\"{}/{}\".format(a,b))"
      ],
      "metadata": {
        "colab": {
          "base_uri": "https://localhost:8080/"
        },
        "id": "-TRM09M7L-Pr",
        "outputId": "5494e392-8d0c-4515-f1b5-ba4f87ffb474"
      },
      "execution_count": null,
      "outputs": [
        {
          "output_type": "stream",
          "name": "stdout",
          "text": [
            "9\n",
            "3/2\n"
          ]
        }
      ]
    },
    {
      "cell_type": "code",
      "source": [
        "# 달팽이는 올라가고 싶다\n",
        "A,B,V = map(int, input().split())\n",
        "num = 0\n",
        "result = 0\n",
        "while True:\n",
        "  num += 1 \n",
        "  result += A\n",
        "  if result >= V:\n",
        "    print(num)\n",
        "    break\n",
        "  result -= B"
      ],
      "metadata": {
        "colab": {
          "base_uri": "https://localhost:8080/"
        },
        "id": "xAT8h41ehZtt",
        "outputId": "efef0da2-7fe4-4390-bcc6-b5e1d0d8178f"
      },
      "execution_count": null,
      "outputs": [
        {
          "output_type": "stream",
          "name": "stdout",
          "text": [
            "2 1 5\n",
            "4\n"
          ]
        }
      ]
    },
    {
      "cell_type": "code",
      "source": [
        "# 새로 고친 코드\n",
        "a,b,v=map(int,input().split())\n",
        "\n",
        "if (v-b)%(a-b)==0:\n",
        "    print((v-b)//(a-b))\n",
        "else:\n",
        "    print((v-b)//(a-b)+1)"
      ],
      "metadata": {
        "id": "C7mDAvgqC-35",
        "colab": {
          "base_uri": "https://localhost:8080/"
        },
        "outputId": "ee464702-ba9f-466f-c3de-5cdcd07c615b"
      },
      "execution_count": null,
      "outputs": [
        {
          "output_type": "stream",
          "name": "stdout",
          "text": [
            "2 1 5\n",
            "4\n"
          ]
        }
      ]
    },
    {
      "cell_type": "code",
      "source": [
        "#ACM 호텔\n",
        "t = int(input())\n",
        "\n",
        "for i in range(t):\n",
        "    h, w, n = map(int, input().split())\n",
        "    num = n//h + 1\n",
        "    floor = n % h\n",
        "    if n % h == 0:  # h의 배수이면,\n",
        "        num = n//h\n",
        "        floor = h\n",
        "    print(f'{floor*100+num}')\n"
      ],
      "metadata": {
        "id": "4SK0KH0ViN8w",
        "colab": {
          "base_uri": "https://localhost:8080/"
        },
        "outputId": "0f009787-1788-4f14-9128-96ad79c0b273"
      },
      "execution_count": null,
      "outputs": [
        {
          "output_type": "stream",
          "name": "stdout",
          "text": [
            "1\n",
            "6 12 54\n",
            "609\n"
          ]
        }
      ]
    },
    {
      "cell_type": "code",
      "source": [
        "# 부녀회장이 될테야\n",
        "\n",
        "# a층의 b호는 a-1층의 1호 부터 b호까지의 합한 수\n",
        "# 아파트는 0층부터 있고 각층에는 1호부터 있으며 0층의 i호는 i명이산다\n",
        "# 바로 아래층의 전부를 더할 필요 없이, (바로 왼쪽 옆집 + 바로 아랫집)을 하면 수가 나온다.\n",
        "# (k,n) = (k,n-1) + (k-1,n)이 된다\n",
        "\n",
        "apt = [[0 for j in range(14)] for i in range(15)]\n",
        "for x in range(15):\n",
        "  apt[x][0] = 1\n",
        "for y in range(14):\n",
        "    apt[0][y] = y+1\n",
        "for i in range(1,15):\n",
        "  for j in range(1,14):\n",
        "       apt[i][j] = apt[i][j - 1] + apt[i - 1][j]\n",
        "\n",
        "t = int(input())\n",
        "\n",
        "for i in range(t):\n",
        "  k = int(input())\n",
        "  n = int(input())\n",
        "  print(apt[k][n-1])\n",
        "  \n",
        "  \n",
        "\n"
      ],
      "metadata": {
        "colab": {
          "base_uri": "https://localhost:8080/"
        },
        "id": "vggs0PCNHVzV",
        "outputId": "ba5c0b0f-5dee-430c-ef22-a7618bff0708"
      },
      "execution_count": null,
      "outputs": [
        {
          "output_type": "stream",
          "name": "stdout",
          "text": [
            "2\n",
            "5\n",
            "6\n",
            "462\n",
            "8\n",
            "2\n",
            "10\n"
          ]
        }
      ]
    },
    {
      "cell_type": "code",
      "source": [
        "#설탕 배달 if문 ver\n",
        "\n",
        "N = int(input())\n",
        "k = (N - 5) % 3\n",
        "t = (N -3) % 5\n",
        "if N < 3:\n",
        "  print(-1)\n",
        "elif k == 0:\n",
        "  print(1 + ((N -5)// 3))\n",
        "elif t == 0:\n",
        "  print(1+((N -3) // 5))\n",
        "  \n",
        "elif (N % 3) != 0 and (N % 5) != 0:\n",
        "  print(-1)\n",
        "else:\n",
        "  three_k = N // 3\n",
        "  five_k = N // 5\n",
        "  if three_k == 0 and five_k == 0:\n",
        "    if three_k > five_k:\n",
        "      print(five_k)\n",
        "    else: \n",
        "      print(three_k)\n",
        "  elif (N % 3) == 0 and (N % 5) != 0:\n",
        "    print(three_k)\n",
        "  elif five_k == 0 and three_k != 0:\n",
        "    if three_k % 3 == 0:\n",
        "      print(three_k +(three_k // 3))\n",
        "    if three_k % 5 == 0:\n",
        "      print(three_k + (three_k // 5))\n",
        "    else:\n",
        "      print(five_k)\n",
        "\n",
        "\n"
      ],
      "metadata": {
        "id": "pGav15ZNHXcY",
        "colab": {
          "base_uri": "https://localhost:8080/"
        },
        "outputId": "67599141-73f9-4c57-fedf-e84c1bbb9978"
      },
      "execution_count": null,
      "outputs": [
        {
          "output_type": "stream",
          "name": "stdout",
          "text": [
            "11\n",
            "3\n"
          ]
        }
      ]
    },
    {
      "cell_type": "code",
      "source": [
        "# 설탕 배달\n",
        "sugar = int(input())\n",
        "\n",
        "bag = 0\n",
        "while sugar >= 0 : \n",
        "    if sugar % 5 == 0 : \n",
        "        bag += (sugar // 5) \n",
        "        print(bag)\n",
        "        break\n",
        "    sugar -= 3  \n",
        "    bag += 1  \n",
        "else :\n",
        "    print(-1)"
      ],
      "metadata": {
        "id": "KAat3ygYuMli",
        "colab": {
          "base_uri": "https://localhost:8080/"
        },
        "outputId": "e5e979aa-b221-4092-8d70-79ed8871dcef"
      },
      "execution_count": null,
      "outputs": [
        {
          "output_type": "stream",
          "name": "stdout",
          "text": [
            "9\n",
            "3\n"
          ]
        }
      ]
    },
    {
      "cell_type": "code",
      "source": [
        "# 큰 수 A+B\n",
        "\n",
        "A, B = map(int, input().split())\n",
        "print(A + B)"
      ],
      "metadata": {
        "id": "VJT13uL14ao3",
        "colab": {
          "base_uri": "https://localhost:8080/"
        },
        "outputId": "40139407-3dcc-48e2-ec98-fecce4e6b79c"
      },
      "execution_count": null,
      "outputs": [
        {
          "output_type": "stream",
          "name": "stdout",
          "text": [
            "5 6\n",
            "11\n"
          ]
        }
      ]
    },
    {
      "cell_type": "code",
      "source": [
        "#소수 찾기\n",
        "N = int(input())\n",
        "num_lst = list(map(int, input().split()))\n",
        "prime_num = 0\n",
        "\n",
        "for i in num_lst:\n",
        "    cnt = 0\n",
        "    for j in range(1, i+1):\n",
        "        if i % j == 0:\n",
        "            cnt += 1\n",
        "    if cnt == 2:\n",
        "        prime_num += 1\n",
        "\n",
        "print(prime_num)"
      ],
      "metadata": {
        "id": "wuW4R82usmBW",
        "colab": {
          "base_uri": "https://localhost:8080/"
        },
        "outputId": "499e9a00-c69d-4b78-d978-5592803b92a4"
      },
      "execution_count": null,
      "outputs": [
        {
          "output_type": "stream",
          "name": "stdout",
          "text": [
            "4\n",
            "1 3 5 7\n",
            "3\n"
          ]
        }
      ]
    },
    {
      "cell_type": "code",
      "source": [
        "#소수구하기\n",
        "\n",
        "N, M =map(int,input().split())\n",
        "\n",
        "for i in range(N, M + 1):\n",
        "  cnt = 0\n",
        "  for j in range(1, i +1):\n",
        "    if i % j == 0:\n",
        "      cnt += 1\n",
        "  if cnt == 2:\n",
        "   print(i)"
      ],
      "metadata": {
        "colab": {
          "base_uri": "https://localhost:8080/"
        },
        "id": "SMgWS634BLUd",
        "outputId": "a3a7a813-a051-4c73-f26b-182756e32d87"
      },
      "execution_count": null,
      "outputs": [
        {
          "output_type": "stream",
          "name": "stdout",
          "text": [
            "8000 9875\n",
            "8009\n",
            "8011\n",
            "8017\n",
            "8039\n",
            "8053\n",
            "8059\n",
            "8069\n",
            "8081\n",
            "8087\n",
            "8089\n",
            "8093\n",
            "8101\n",
            "8111\n",
            "8117\n",
            "8123\n",
            "8147\n",
            "8161\n",
            "8167\n",
            "8171\n",
            "8179\n",
            "8191\n",
            "8209\n",
            "8219\n",
            "8221\n",
            "8231\n",
            "8233\n",
            "8237\n",
            "8243\n",
            "8263\n",
            "8269\n",
            "8273\n",
            "8287\n",
            "8291\n",
            "8293\n",
            "8297\n",
            "8311\n",
            "8317\n",
            "8329\n",
            "8353\n",
            "8363\n",
            "8369\n",
            "8377\n",
            "8387\n",
            "8389\n",
            "8419\n",
            "8423\n",
            "8429\n",
            "8431\n",
            "8443\n",
            "8447\n",
            "8461\n",
            "8467\n",
            "8501\n",
            "8513\n",
            "8521\n",
            "8527\n",
            "8537\n",
            "8539\n",
            "8543\n",
            "8563\n",
            "8573\n",
            "8581\n",
            "8597\n",
            "8599\n",
            "8609\n",
            "8623\n",
            "8627\n",
            "8629\n",
            "8641\n",
            "8647\n",
            "8663\n",
            "8669\n",
            "8677\n",
            "8681\n",
            "8689\n",
            "8693\n",
            "8699\n",
            "8707\n",
            "8713\n",
            "8719\n",
            "8731\n",
            "8737\n",
            "8741\n",
            "8747\n",
            "8753\n",
            "8761\n",
            "8779\n",
            "8783\n",
            "8803\n",
            "8807\n",
            "8819\n",
            "8821\n",
            "8831\n",
            "8837\n",
            "8839\n",
            "8849\n",
            "8861\n",
            "8863\n",
            "8867\n",
            "8887\n",
            "8893\n",
            "8923\n",
            "8929\n",
            "8933\n",
            "8941\n",
            "8951\n",
            "8963\n",
            "8969\n",
            "8971\n",
            "8999\n",
            "9001\n",
            "9007\n",
            "9011\n",
            "9013\n",
            "9029\n",
            "9041\n",
            "9043\n",
            "9049\n",
            "9059\n",
            "9067\n",
            "9091\n",
            "9103\n",
            "9109\n",
            "9127\n",
            "9133\n",
            "9137\n",
            "9151\n",
            "9157\n",
            "9161\n",
            "9173\n",
            "9181\n",
            "9187\n",
            "9199\n",
            "9203\n",
            "9209\n",
            "9221\n",
            "9227\n",
            "9239\n",
            "9241\n",
            "9257\n",
            "9277\n",
            "9281\n",
            "9283\n",
            "9293\n",
            "9311\n",
            "9319\n",
            "9323\n",
            "9337\n",
            "9341\n",
            "9343\n",
            "9349\n",
            "9371\n",
            "9377\n",
            "9391\n",
            "9397\n",
            "9403\n",
            "9413\n",
            "9419\n",
            "9421\n",
            "9431\n",
            "9433\n",
            "9437\n",
            "9439\n",
            "9461\n",
            "9463\n",
            "9467\n",
            "9473\n",
            "9479\n",
            "9491\n",
            "9497\n",
            "9511\n",
            "9521\n",
            "9533\n",
            "9539\n",
            "9547\n",
            "9551\n",
            "9587\n",
            "9601\n",
            "9613\n",
            "9619\n",
            "9623\n",
            "9629\n",
            "9631\n",
            "9643\n",
            "9649\n",
            "9661\n",
            "9677\n",
            "9679\n",
            "9689\n",
            "9697\n",
            "9719\n",
            "9721\n",
            "9733\n",
            "9739\n",
            "9743\n",
            "9749\n",
            "9767\n",
            "9769\n",
            "9781\n",
            "9787\n",
            "9791\n",
            "9803\n",
            "9811\n",
            "9817\n",
            "9829\n",
            "9833\n",
            "9839\n",
            "9851\n",
            "9857\n",
            "9859\n",
            "9871\n"
          ]
        }
      ]
    },
    {
      "cell_type": "code",
      "source": [
        "def prime(num):\n",
        "  if num < 2:\n",
        "    return False\n",
        "  i = 2\n",
        "  \n",
        "  while i * i <= num:\n",
        "    if num % i == 0:\n",
        "      return False\n",
        "\n",
        "    i += 1\n",
        "    return true\n",
        "\n",
        "m, n. = map(int, input().split())\n"
      ],
      "metadata": {
        "id": "fvU7IxBPBXjH"
      },
      "execution_count": null,
      "outputs": []
    }
  ]
}