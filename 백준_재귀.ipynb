{
  "nbformat": 4,
  "nbformat_minor": 0,
  "metadata": {
    "colab": {
      "name": "백준_재귀.ipynb",
      "provenance": [],
      "collapsed_sections": [],
      "include_colab_link": true
    },
    "kernelspec": {
      "name": "python3",
      "display_name": "Python 3"
    },
    "language_info": {
      "name": "python"
    }
  },
  "cells": [
    {
      "cell_type": "markdown",
      "metadata": {
        "id": "view-in-github",
        "colab_type": "text"
      },
      "source": [
        "<a href=\"https://colab.research.google.com/github/HS587885/Baekjoon_ProblemSolving/blob/main/%EB%B0%B1%EC%A4%80_%EC%9E%AC%EA%B7%80.ipynb\" target=\"_parent\"><img src=\"https://colab.research.google.com/assets/colab-badge.svg\" alt=\"Open In Colab\"/></a>"
      ]
    },
    {
      "cell_type": "code",
      "execution_count": null,
      "metadata": {
        "colab": {
          "base_uri": "https://localhost:8080/"
        },
        "id": "zi6wSIVi9TPF",
        "outputId": "a7284c00-5fc5-4f23-b2c7-d58a74af33a1"
      },
      "outputs": [
        {
          "output_type": "stream",
          "name": "stdout",
          "text": [
            "10\n",
            "3628800\n"
          ]
        }
      ],
      "source": [
        "# 팩토리얼\n",
        "\n",
        "N = int(input())\n",
        "result = 1\n",
        "for i in range(1, N + 1):\n",
        "  result *= i\n",
        "print(result)\n"
      ]
    },
    {
      "cell_type": "code",
      "source": [
        "# 피보나치의 수 5\n",
        "# 피보나치 수는 0과 1로 시작한다. 0번째 피보나치 수는 0이고, 1번째 피보나치 수는 1이다. 그 다음 2번째 부터는 바로 앞 두 피보나치 수의 합이 된다.\n",
        "# 이를 식으로 써보면 Fn = Fn-1 + Fn-2 (n ≥ 2)가 된다.\n",
        "\n",
        "fibo = [0 for x in range(20)]\n",
        "fibo[0] = 0\n",
        "fibo[1] = 1\n",
        "for i in range(2,  20): \n",
        "  fibo[i] = fibo[i-1] + fibo[i-2]\n",
        "n = int(input())\n",
        "print(fibo[n])\n",
        "\n"
      ],
      "metadata": {
        "colab": {
          "base_uri": "https://localhost:8080/"
        },
        "id": "giA53Mvq9jAF",
        "outputId": "2031a36a-d0db-4c58-a28b-fef803fe6b78"
      },
      "execution_count": null,
      "outputs": [
        {
          "output_type": "stream",
          "name": "stdout",
          "text": [
            "10\n",
            "55\n"
          ]
        }
      ]
    },
    {
      "cell_type": "code",
      "source": [
        "# 런타임에러나서 다시함\n",
        "# Revised version\n",
        "\n",
        "\n",
        "n = int(input())\n",
        "fibo = [0, 1]\n",
        "for i in range(2, n+1):\n",
        "    num = fibo[i-1] + fibo[i-2]\n",
        "    fibo.append(num)\n",
        "print(fibo[n])"
      ],
      "metadata": {
        "colab": {
          "base_uri": "https://localhost:8080/"
        },
        "id": "2F-F80wHjW_A",
        "outputId": "3178cd18-fd56-4f76-93f4-c4016b9a795e"
      },
      "execution_count": null,
      "outputs": [
        {
          "output_type": "stream",
          "name": "stdout",
          "text": [
            "10\n",
            "55\n"
          ]
        }
      ]
    },
    {
      "cell_type": "code",
      "source": [
        "# 피보나치 5 함수형 \n",
        "def f(n):\n",
        "    if n == 0 or n == 1:\n",
        "        return n\n",
        "\n",
        "    else:\n",
        "        return f(n-1) + f(n-2)\n",
        "\n",
        "n = int(input())\n",
        "print(f(n))\n"
      ],
      "metadata": {
        "colab": {
          "base_uri": "https://localhost:8080/"
        },
        "id": "NiXCBkgJ9jCn",
        "outputId": "95d87fd0-4f66-4be5-fccc-fe2ad69aa28b"
      },
      "execution_count": null,
      "outputs": [
        {
          "output_type": "stream",
          "name": "stdout",
          "text": [
            "10\n",
            "55\n"
          ]
        }
      ]
    },
    {
      "cell_type": "code",
      "source": [
        "# 재귀함수가 뭔가요?\n",
        "\n",
        "def recursion(n):\n",
        "    print('_'*4*(N-n)+'\"재귀함수가 뭔가요?\"')\n",
        "    if n == 0:\n",
        "        print('_'*4*(N-n)+'\"재귀함수는 자기 자신을 호출하는 함수라네\"')\n",
        "        print('_'*4*(N-n)+'라고 답변하였지.')\n",
        "        return\n",
        "    print('_'*4*(N-n) + '\"잘 들어보게. 옛날옛날 한 산 꼭대기에 이세상 모든 지식을 통달한 선인이 있었어.')\n",
        "    print('_'*4*(N-n) + '마을 사람들은 모두 그 선인에게 수많은 질문을 했고, 모두 지혜롭게 대답해 주었지.')\n",
        "    print('_'*4*(N-n) + '그의 답은 대부분 옳았다고 하네. 그런데 어느 날, 그 선인에게 한 선비가 찾아와서 물었어.\"')\n",
        "    recursion(n-1)\n",
        "    print('_'*4*(N-n) + '라고 답변하였지.')\n",
        "\n",
        "\n",
        "N = int(input())\n",
        "print('어느 한 컴퓨터공학과 학생이 유명한 교수님을 찾아가 물었다.')\n",
        "recursion(N)\n",
        "\n",
        "\n",
        "\n"
      ],
      "metadata": {
        "id": "fbNCyQ909jFP",
        "colab": {
          "base_uri": "https://localhost:8080/"
        },
        "outputId": "df37ac7d-d5a5-4169-e42f-9fb963b53603"
      },
      "execution_count": null,
      "outputs": [
        {
          "output_type": "stream",
          "name": "stdout",
          "text": [
            "1\n",
            "어느 한 컴퓨터공학과 학생이 유명한 교수님을 찾아가 물었다.\n",
            "\"재귀함수가 뭔가요?\"\n",
            "\"잘 들어보게. 옛날옛날 한 산 꼭대기에 이세상 모든 지식을 통달한 선인이 있었어.\n",
            "마을 사람들은 모두 그 선인에게 수많은 질문을 했고, 모두 지혜롭게 대답해 주었지.\n",
            "그의 답은 대부분 옳았다고 하네. 그런데 어느 날, 그 선인에게 한 선비가 찾아와서 물었어.\"\n",
            "____\"재귀함수가 뭔가요?\"\n",
            "____\"재귀함수는 자기 자신을 호출하는 함수라네\"\n",
            "____라고 답변하였지.\n",
            "라고 답변하였지.\n"
          ]
        }
      ]
    },
    {
      "cell_type": "code",
      "source": [
        "# 별 찍기 - 10\n",
        "num = int(input())\n",
        "\n",
        "def printing_star(n):\n",
        "  if n == 3:\n",
        "    return ['***', '* *', '***']\n",
        "\n",
        "  stars = printing_star(n//3)\n",
        "  a = []\n",
        "  for star in stars:\n",
        "    a.append(star*3)\n",
        "  for star in stars:\n",
        "    a.append(star+' '* (n//3) + star)\n",
        "  for star in stars:\n",
        "    a.append(star*3)\n",
        "  return a\n",
        "\n",
        "print('\\n'.join(printing_star(num)))"
      ],
      "metadata": {
        "id": "i9hStSjR9jH0",
        "colab": {
          "base_uri": "https://localhost:8080/"
        },
        "outputId": "c26d7a7b-4625-4722-a765-3a7fb45d3dd3"
      },
      "execution_count": null,
      "outputs": [
        {
          "output_type": "stream",
          "name": "stdout",
          "text": [
            "27\n",
            "***************************\n",
            "* ** ** ** ** ** ** ** ** *\n",
            "***************************\n",
            "***   ******   ******   ***\n",
            "* *   * ** *   * ** *   * *\n",
            "***   ******   ******   ***\n",
            "***************************\n",
            "* ** ** ** ** ** ** ** ** *\n",
            "***************************\n",
            "*********         *********\n",
            "* ** ** *         * ** ** *\n",
            "*********         *********\n",
            "***   ***         ***   ***\n",
            "* *   * *         * *   * *\n",
            "***   ***         ***   ***\n",
            "*********         *********\n",
            "* ** ** *         * ** ** *\n",
            "*********         *********\n",
            "***************************\n",
            "* ** ** ** ** ** ** ** ** *\n",
            "***************************\n",
            "***   ******   ******   ***\n",
            "* *   * ** *   * ** *   * *\n",
            "***   ******   ******   ***\n",
            "***************************\n",
            "* ** ** ** ** ** ** ** ** *\n",
            "***************************\n"
          ]
        }
      ]
    },
    {
      "cell_type": "code",
      "source": [
        "def hanoi(N, start, middle, end):\n",
        "  if N == 1:\n",
        "    print(start, end)\n",
        "  else:\n",
        "    hanoi(N-1, start, end, middle)\n",
        "    print(start, end)\n",
        "    hanoi(N-1, middle, start, end)\n",
        "\n",
        "\n",
        "N = int(input())\n",
        "print(2 ** N -1)\n",
        "hanoi(N, 1, 2, 3)\n",
        "  "
      ],
      "metadata": {
        "id": "FoJr9s699jKB",
        "colab": {
          "base_uri": "https://localhost:8080/"
        },
        "outputId": "973ec3b5-d27b-4cbf-fdff-0cb25ea8389b"
      },
      "execution_count": null,
      "outputs": [
        {
          "output_type": "stream",
          "name": "stdout",
          "text": [
            "3\n",
            "7\n",
            "1 3\n",
            "1 2\n",
            "3 2\n",
            "1 3\n",
            "2 1\n",
            "2 3\n",
            "1 3\n"
          ]
        }
      ]
    },
    {
      "cell_type": "code",
      "source": [
        "hanoi(2, 1, 3, 2)"
      ],
      "metadata": {
        "id": "IYQmTuIa9jMa",
        "colab": {
          "base_uri": "https://localhost:8080/"
        },
        "outputId": "2060dea5-1ac8-4281-cc49-d000bd93ea7f"
      },
      "execution_count": null,
      "outputs": [
        {
          "output_type": "stream",
          "name": "stdout",
          "text": [
            "1 3\n",
            "1 2\n",
            "3 2\n"
          ]
        }
      ]
    },
    {
      "cell_type": "code",
      "source": [
        "hanoi(2, 2, 1, 3)"
      ],
      "metadata": {
        "colab": {
          "base_uri": "https://localhost:8080/"
        },
        "id": "r7UK_c3AP_o5",
        "outputId": "e832f8c6-1d79-44f6-984f-59a6f7f210fe"
      },
      "execution_count": null,
      "outputs": [
        {
          "output_type": "stream",
          "name": "stdout",
          "text": [
            "2 1\n",
            "2 3\n",
            "1 3\n"
          ]
        }
      ]
    }
  ]
}