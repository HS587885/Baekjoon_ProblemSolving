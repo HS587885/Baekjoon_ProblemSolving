{
  "nbformat": 4,
  "nbformat_minor": 0,
  "metadata": {
    "colab": {
      "name": "1차원_배열_백준4주차.ipynb",
      "provenance": [],
      "include_colab_link": true
    },
    "kernelspec": {
      "name": "python3",
      "display_name": "Python 3"
    },
    "language_info": {
      "name": "python"
    }
  },
  "cells": [
    {
      "cell_type": "markdown",
      "metadata": {
        "id": "view-in-github",
        "colab_type": "text"
      },
      "source": [
        "<a href=\"https://colab.research.google.com/github/HS587885/Baekjoon_ProblemSolving/blob/main/1%EC%B0%A8%EC%9B%90_%EB%B0%B0%EC%97%B4_%EB%B0%B1%EC%A4%804%EC%A3%BC%EC%B0%A8.ipynb\" target=\"_parent\"><img src=\"https://colab.research.google.com/assets/colab-badge.svg\" alt=\"Open In Colab\"/></a>"
      ]
    },
    {
      "cell_type": "code",
      "execution_count": null,
      "metadata": {
        "colab": {
          "base_uri": "https://localhost:8080/"
        },
        "id": "2GA2-2EixNrG",
        "outputId": "48b44576-9f99-4785-ce65-40af548fa969"
      },
      "outputs": [
        {
          "output_type": "stream",
          "name": "stdout",
          "text": [
            "150\n",
            "266\n",
            "266 266\n"
          ]
        }
      ],
      "source": [
        "#1 최소, 최대\n",
        "\n",
        "n = input()\n",
        "m = list(map(int, input().split()))\n",
        "print(min(m), max(m))\n"
      ]
    },
    {
      "cell_type": "code",
      "source": [
        "#2 최댓값\n",
        "\n",
        "num = []\n",
        "for i in range(9):\n",
        "    num.append(int(input()))\n",
        "print(max(num))\n",
        "print(num.index(max(num)) + 1)"
      ],
      "metadata": {
        "colab": {
          "base_uri": "https://localhost:8080/"
        },
        "id": "vOdacF11yBz3",
        "outputId": "f2cfd8f7-ac5d-469d-b6ca-80cc99f04faa"
      },
      "execution_count": null,
      "outputs": [
        {
          "output_type": "stream",
          "name": "stdout",
          "text": [
            "3\n",
            "29\n",
            "38\n",
            "12\n",
            "57\n",
            "74\n",
            "40\n",
            "85\n",
            "61\n",
            "85\n",
            "8\n"
          ]
        }
      ]
    },
    {
      "cell_type": "code",
      "source": [
        "#3 숫자의 개수\n",
        "\n",
        "a = int(input())\n",
        "b = int(input())\n",
        "c = int(input())\n",
        "\n",
        "result = a*b*c\n",
        "\n",
        "for i in '0123456789':\n",
        "    cnt = 0\n",
        "    for j in str(result):\n",
        "        if i == j:\n",
        "            cnt = cnt+1\n",
        "    print(cnt)"
      ],
      "metadata": {
        "colab": {
          "base_uri": "https://localhost:8080/"
        },
        "id": "agyN53S2yB2U",
        "outputId": "8031e3ad-ae11-4613-d22d-bfe89b6061a9"
      },
      "execution_count": null,
      "outputs": [
        {
          "output_type": "stream",
          "name": "stdout",
          "text": [
            "150\n",
            "266\n",
            "427\n",
            "3\n",
            "1\n",
            "0\n",
            "2\n",
            "0\n",
            "0\n",
            "0\n",
            "2\n",
            "0\n",
            "0\n"
          ]
        }
      ]
    },
    {
      "cell_type": "code",
      "source": [
        "#4 나머지 (런타임 에러)\n",
        "n =[]\n",
        "\n",
        "for _ in range(10):\n",
        "    a = int(input())\n",
        "    b = a % 42\n",
        "    n.append(b)\n",
        "s = set(n)\n",
        "print(len(s))\n"
      ],
      "metadata": {
        "colab": {
          "base_uri": "https://localhost:8080/"
        },
        "id": "F1AT2nEAyB4t",
        "outputId": "ff70d801-e662-4f1f-8a16-7b889eb9146c"
      },
      "execution_count": null,
      "outputs": [
        {
          "output_type": "stream",
          "name": "stdout",
          "text": [
            "42\n",
            "84\n",
            "252\n",
            "420\n",
            "840\n",
            "126\n",
            "42\n",
            "84\n",
            "420\n",
            "126\n",
            "1\n"
          ]
        }
      ]
    },
    {
      "cell_type": "code",
      "source": [
        "#5 평균 \n",
        "\n",
        "n = int(input())  # 과목 수\n",
        "test_list = list(map(int, input().split()))\n",
        "max_score = max(test_list)\n",
        "\n",
        "new_list = []\n",
        "for score in test_list :\n",
        "    new_list.append(score/max_score *100)  # 새로운 점수 생성\n",
        "test_avg = sum(new_list)/n\n",
        "print(test_avg)"
      ],
      "metadata": {
        "id": "-BNPNUd_yB7C"
      },
      "execution_count": null,
      "outputs": []
    },
    {
      "cell_type": "code",
      "source": [
        "#6 OX 퀴즈\n",
        "\n",
        "n=int(input())\n",
        "\n",
        "for _ in range(n):\n",
        "    ox=list(input())\n",
        "    score=0\n",
        "    su=0\n",
        "    for i in ox:\n",
        "        if i=='O':\n",
        "            score+=1\n",
        "            su+=score\n",
        "        elif i=='X':\n",
        "            score=0\n",
        "      \n",
        "    print(su)\n"
      ],
      "metadata": {
        "id": "t7fNm62qyB9V"
      },
      "execution_count": null,
      "outputs": []
    },
    {
      "cell_type": "code",
      "source": [
        "#7 평균은 넘겠지 (런타임 에러)\n",
        "\n",
        "\n",
        "c = int(input())\n",
        "\n",
        "for i in range(c):\n",
        "    a = list(map(int, input().split()))\n",
        "    average = float(sum(a[1:]))/float(a[0])\n",
        "    count = 0\n",
        "    for j in a[1:]:\n",
        "        if j > average:\n",
        "            count += 1\n",
        "        print(\"%.3f%%\" %round(float(100*count)/float(a[0], 3)))"
      ],
      "metadata": {
        "colab": {
          "base_uri": "https://localhost:8080/",
          "height": 245
        },
        "id": "hDO6rtdTyB_d",
        "outputId": "d773ed18-31ac-4ee4-a664-2b7c87b2fbea"
      },
      "execution_count": null,
      "outputs": [
        {
          "name": "stdout",
          "output_type": "stream",
          "text": [
            "5\n",
            "5 50 50 70 80 100\n"
          ]
        },
        {
          "output_type": "error",
          "ename": "TypeError",
          "evalue": "ignored",
          "traceback": [
            "\u001b[0;31m---------------------------------------------------------------------------\u001b[0m",
            "\u001b[0;31mTypeError\u001b[0m                                 Traceback (most recent call last)",
            "\u001b[0;32m<ipython-input-8-ac27d4ca1a4e>\u001b[0m in \u001b[0;36m<module>\u001b[0;34m()\u001b[0m\n\u001b[1;32m     11\u001b[0m         \u001b[0;32mif\u001b[0m \u001b[0mj\u001b[0m \u001b[0;34m>\u001b[0m \u001b[0maverage\u001b[0m\u001b[0;34m:\u001b[0m\u001b[0;34m\u001b[0m\u001b[0;34m\u001b[0m\u001b[0m\n\u001b[1;32m     12\u001b[0m             \u001b[0mcount\u001b[0m \u001b[0;34m+=\u001b[0m \u001b[0;36m1\u001b[0m\u001b[0;34m\u001b[0m\u001b[0;34m\u001b[0m\u001b[0m\n\u001b[0;32m---> 13\u001b[0;31m         \u001b[0mprint\u001b[0m\u001b[0;34m(\u001b[0m\u001b[0;34m\"%.3f%%\"\u001b[0m \u001b[0;34m%\u001b[0m\u001b[0mround\u001b[0m\u001b[0;34m(\u001b[0m\u001b[0mfloat\u001b[0m\u001b[0;34m(\u001b[0m\u001b[0;36m100\u001b[0m\u001b[0;34m*\u001b[0m\u001b[0mcount\u001b[0m\u001b[0;34m)\u001b[0m\u001b[0;34m/\u001b[0m\u001b[0mfloat\u001b[0m\u001b[0;34m(\u001b[0m\u001b[0ma\u001b[0m\u001b[0;34m[\u001b[0m\u001b[0;36m0\u001b[0m\u001b[0;34m]\u001b[0m\u001b[0;34m,\u001b[0m \u001b[0;36m3\u001b[0m\u001b[0;34m)\u001b[0m\u001b[0;34m)\u001b[0m\u001b[0;34m)\u001b[0m\u001b[0;34m\u001b[0m\u001b[0;34m\u001b[0m\u001b[0m\n\u001b[0m",
            "\u001b[0;31mTypeError\u001b[0m: float expected at most 1 arguments, got 2"
          ]
        }
      ]
    },
    {
      "cell_type": "code",
      "source": [
        ""
      ],
      "metadata": {
        "id": "x6fSUv1ryCCI"
      },
      "execution_count": null,
      "outputs": []
    }
  ]
}