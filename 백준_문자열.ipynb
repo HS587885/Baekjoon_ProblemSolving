{
  "nbformat": 4,
  "nbformat_minor": 0,
  "metadata": {
    "colab": {
      "name": "백준_문자열.ipynb",
      "provenance": [],
      "collapsed_sections": [],
      "authorship_tag": "ABX9TyNI5OgtNogzz0DEu95C73uQ",
      "include_colab_link": true
    },
    "kernelspec": {
      "name": "python3",
      "display_name": "Python 3"
    },
    "language_info": {
      "name": "python"
    }
  },
  "cells": [
    {
      "cell_type": "markdown",
      "metadata": {
        "id": "view-in-github",
        "colab_type": "text"
      },
      "source": [
        "<a href=\"https://colab.research.google.com/github/HS587885/Baekjoon_ProblemSolving/blob/main/%EB%B0%B1%EC%A4%80_%EB%AC%B8%EC%9E%90%EC%97%B4.ipynb\" target=\"_parent\"><img src=\"https://colab.research.google.com/assets/colab-badge.svg\" alt=\"Open In Colab\"/></a>"
      ]
    },
    {
      "cell_type": "code",
      "execution_count": null,
      "metadata": {
        "colab": {
          "base_uri": "https://localhost:8080/"
        },
        "id": "SYZbk32LgahL",
        "outputId": "52d66a9b-5c50-4c94-b9b5-f18b95aaf904"
      },
      "outputs": [
        {
          "output_type": "stream",
          "name": "stdout",
          "text": [
            "A\n",
            "65\n"
          ]
        }
      ],
      "source": [
        "#1 아스키 코드\n",
        "n= input()\n",
        "print(ord(n))"
      ]
    },
    {
      "cell_type": "code",
      "source": [
        "#2 숫자의 합\n",
        "\n",
        "a=int(input())\n",
        "b=list(input())\n",
        "result=0\n",
        "\n",
        "for i in b:\n",
        "    result += int(i)\n",
        "print(result)"
      ],
      "metadata": {
        "colab": {
          "base_uri": "https://localhost:8080/"
        },
        "id": "Pd1yQ2G_gsgj",
        "outputId": "6a6d5ca4-33c0-4a77-ada2-deecaf2ce77f"
      },
      "execution_count": null,
      "outputs": [
        {
          "output_type": "stream",
          "name": "stdout",
          "text": [
            "1\n",
            "1\n",
            "1\n"
          ]
        }
      ]
    },
    {
      "cell_type": "code",
      "source": [
        "#3 알파벳 찾기\n",
        "\n",
        "lst = list(-1 for i in range(0,26))\n",
        "string = input()\n",
        "count = 0\n",
        "for i in string:\n",
        "    if lst[ord(i)-97] != -1: #중복 문자 제거 \n",
        "        count = count + 1\n",
        "        continue\n",
        "    lst[ord(i)-97] = count #아스키 코드를 생각해서 그 알파벳이 몇번짼지 파악\n",
        "    count = count + 1\n",
        "\n",
        "for i in lst:\n",
        "    print(i, end = ' ')\n"
      ],
      "metadata": {
        "colab": {
          "base_uri": "https://localhost:8080/"
        },
        "id": "GiUSD3RKgsoS",
        "outputId": "e57de05b-326c-46a3-9716-46491f63b59e"
      },
      "execution_count": null,
      "outputs": [
        {
          "output_type": "stream",
          "name": "stdout",
          "text": [
            "baekjoon\n",
            "1 0 -1 -1 2 -1 -1 -1 -1 4 3 -1 -1 7 5 -1 -1 -1 -1 -1 -1 -1 -1 -1 -1 -1 "
          ]
        }
      ]
    },
    {
      "cell_type": "code",
      "source": [
        "#4 문자열 반복\n",
        "\n",
        "t = int(input())\n",
        "\n",
        "for _ in range(t):\n",
        "    r, s = input().split()\n",
        "    p = \"\"\n",
        "    for i in s:\n",
        "        p+= int(r) * i\n",
        "    print(p)"
      ],
      "metadata": {
        "colab": {
          "base_uri": "https://localhost:8080/"
        },
        "id": "gMPl9qQJgsv-",
        "outputId": "5b116fa6-4895-4556-f377-377456798f0a"
      },
      "execution_count": null,
      "outputs": [
        {
          "output_type": "stream",
          "name": "stdout",
          "text": [
            "2\n",
            "3 ABC\n",
            "AAABBBCCC\n",
            "5 /HTP\n",
            "/////HHHHHTTTTTPPPPP\n"
          ]
        }
      ]
    },
    {
      "cell_type": "code",
      "source": [
        "#5 단어공부\n",
        "\n",
        "#대소문자 구분을 없애기 위해서 대문자형으로 바꿈.\n",
        "n = input().upper() \n",
        "# 넣어줄 공간 생성 \n",
        "word = []\n",
        "count = 0\n",
        "\n",
        "for i in set(n): \n",
        "    word.append(n.count(i)) #알파벳들의 개수를 세어 word에 append\n",
        "count = word.count(max(word)) #word에 있는 max값을 카운트함 \n",
        "if count > 1: #count가 1보다 크면 물음표 출력\n",
        "    print(\"?\")\n",
        "else:\n",
        "    print(list(set(n))[word.index(max(word))])\n"
      ],
      "metadata": {
        "id": "460fxcpYgs2K"
      },
      "execution_count": null,
      "outputs": []
    },
    {
      "cell_type": "code",
      "source": [
        "#6 단어의 개수\n",
        "\n",
        "word = input()\n",
        "word = list(word.split())\n",
        "print(len(word))"
      ],
      "metadata": {
        "colab": {
          "base_uri": "https://localhost:8080/"
        },
        "id": "XWRAhhFZgs6K",
        "outputId": "0a47e060-3a46-4b4e-aa63-8170da52e925"
      },
      "execution_count": null,
      "outputs": [
        {
          "output_type": "stream",
          "name": "stdout",
          "text": [
            "The Curious Case of Benjamin Button\n",
            "6\n"
          ]
        }
      ]
    },
    {
      "cell_type": "code",
      "source": [
        "#7 상수\n",
        "print(max(input()[::-1].split()))"
      ],
      "metadata": {
        "colab": {
          "base_uri": "https://localhost:8080/"
        },
        "id": "WidBCZ6Qgs9O",
        "outputId": "d71ef938-7e69-433c-d5cd-030929e6dd39"
      },
      "execution_count": null,
      "outputs": [
        {
          "output_type": "stream",
          "name": "stdout",
          "text": [
            "734 893\n",
            "437\n"
          ]
        }
      ]
    },
    {
      "cell_type": "markdown",
      "source": [
        "Python array[::] 용법\n",
        "\n",
        ">> arr = range(10) >> arr [0,1,2,3,4,5,6,7,8,9]\n",
        "\n",
        ">> arr[::2] # 처음부터 끝까지 두 칸 간격으로 [0,2,4,6,8] \n",
        "\n",
        ">> arr[1::2] # index 1 부터 끝까지 두 칸 간격으로 [1,3,5,7,9]\n",
        "\n",
        ">> arr[::-1] # 처음부터 끝까지 -1칸 간격으로 ( == 역순으로) [9,8,7,6,5,4,3,2,1,0] \n",
        "\n",
        ">> arr[::-2] # 처음부터 끝까지 -2칸 간격으로 ( == 역순, 두 칸 간격으로) [9,7,5,3,1] \n",
        "\n",
        "\n",
        ">> arr[3::-1] # index 3 부터 끝까지 -1칸 간격으로 ( == 역순으로) [3,2,1,0] \n",
        "\n",
        "\n",
        ">> arr[1:6:2] # index 1 부터 index 6 까지 두 칸 간격으로 [1,3,5]\n",
        "\n",
        "\n"
      ],
      "metadata": {
        "id": "sVxiEQSgm4GN"
      }
    },
    {
      "cell_type": "code",
      "source": [
        "#8 다이얼\n",
        "penta = input()\n",
        "hexa = 0\n",
        "for i in penta:\n",
        "    if i == 'A' or i == 'B' or i == 'C':\n",
        "        hexa += 3\n",
        "    elif i == 'D' or i == 'E' or i == 'F':\n",
        "        hexa += 4\n",
        "    elif i == 'G' or i == 'H' or i == 'I':\n",
        "        hexa += 5\n",
        "    elif i == 'J' or i == 'K' or i == 'L':\n",
        "        hexa += 6\n",
        "    elif i == 'M' or i == 'N' or i == 'O':\n",
        "        hexa += 7\n",
        "    elif i == 'P' or i == 'Q' or i == 'R'or i == 'S':\n",
        "        hexa += 8\n",
        "    elif i == 'T' or i == 'U' or i == 'V':\n",
        "        hexa += 9\n",
        "    elif i == 'W' or i == 'X' or i == 'Y' or i == 'Z':\n",
        "        hexa += 10\n",
        "print(hexa)"
      ],
      "metadata": {
        "colab": {
          "base_uri": "https://localhost:8080/"
        },
        "id": "_VcgcSTSgtC1",
        "outputId": "06f9c6f8-e94d-455e-d06d-68c81e1bd193"
      },
      "execution_count": null,
      "outputs": [
        {
          "output_type": "stream",
          "name": "stdout",
          "text": [
            "WA\n",
            "13\n"
          ]
        }
      ]
    },
    {
      "cell_type": "code",
      "source": [
        "#9 크로아티아 알파벳\n",
        "\n",
        "\n",
        "alpha = input()\n",
        "\n",
        "gamma = ['c=', 'c-', 'dz=', 'd-', 'lj', 'nj', 's=', 'z=']\n",
        "\n",
        "for ordering in gamma:\n",
        "    alpha = alpha.replace(ordering, ' ' )\n",
        "print(len(alpha))"
      ],
      "metadata": {
        "colab": {
          "base_uri": "https://localhost:8080/"
        },
        "id": "j2E1LtALgtFw",
        "outputId": "20e60d76-8273-49e2-8491-b335e670d42d"
      },
      "execution_count": null,
      "outputs": [
        {
          "output_type": "stream",
          "name": "stdout",
          "text": [
            "ddz=z=\n",
            "3\n"
          ]
        }
      ]
    },
    {
      "cell_type": "code",
      "source": [
        "#10 하다가 잘안되서 블로그 찾아봄\n",
        "\n",
        "digit = int(input())\n",
        "neptune = 0\n",
        "for i in range(digit):\n",
        "    word = input()\n",
        "    if list(word) == sorted(word, key=word.find):\n",
        "        neptune += 1\n",
        "print(neptune)"
      ],
      "metadata": {
        "colab": {
          "base_uri": "https://localhost:8080/"
        },
        "id": "JdiPupf1gtIy",
        "outputId": "18da86ee-700d-4f4c-f195-cb4480af6d4a"
      },
      "execution_count": null,
      "outputs": [
        {
          "output_type": "stream",
          "name": "stdout",
          "text": [
            "3\n",
            "happy\n",
            "new\n",
            "year\n",
            "3\n"
          ]
        }
      ]
    },
    {
      "cell_type": "code",
      "source": [
        ""
      ],
      "metadata": {
        "id": "aM4zyiHFgtL8"
      },
      "execution_count": null,
      "outputs": []
    },
    {
      "cell_type": "code",
      "source": [
        ""
      ],
      "metadata": {
        "id": "I6Y-wobEgtO9"
      },
      "execution_count": null,
      "outputs": []
    }
  ]
}