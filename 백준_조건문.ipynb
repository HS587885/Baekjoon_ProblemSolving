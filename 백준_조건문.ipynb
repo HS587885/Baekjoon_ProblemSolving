{
  "nbformat": 4,
  "nbformat_minor": 0,
  "metadata": {
    "colab": {
      "name": "조건문_백준2주차.ipynb",
      "provenance": [],
      "collapsed_sections": [],
      "include_colab_link": true
    },
    "kernelspec": {
      "name": "python3",
      "display_name": "Python 3"
    },
    "language_info": {
      "name": "python"
    }
  },
  "cells": [
    {
      "cell_type": "markdown",
      "metadata": {
        "id": "view-in-github",
        "colab_type": "text"
      },
      "source": [
        "<a href=\"https://colab.research.google.com/github/HS587885/Baekjoon_ProblemSolving/blob/main/%EB%B0%B1%EC%A4%80_%EC%A1%B0%EA%B1%B4%EB%AC%B8.ipynb\" target=\"_parent\"><img src=\"https://colab.research.google.com/assets/colab-badge.svg\" alt=\"Open In Colab\"/></a>"
      ]
    },
    {
      "cell_type": "code",
      "execution_count": null,
      "metadata": {
        "colab": {
          "base_uri": "https://localhost:8080/"
        },
        "id": "vnx04DEu4_wq",
        "outputId": "e2861d00-bdb1-4dd0-b16b-1f02c235ae1f"
      },
      "outputs": [
        {
          "output_type": "stream",
          "name": "stdout",
          "text": [
            "36 23\n",
            ">\n"
          ]
        }
      ],
      "source": [
        "#1 두 수 비교하기\n",
        "a,b = input().split()\n",
        "a = int(a)\n",
        "b = int(b)\n",
        "\n",
        "if a == b:\n",
        "    print(\"==\")\n",
        "elif a < b:\n",
        "    print(\"<\")\n",
        "else:\n",
        "    print(\">\")"
      ]
    },
    {
      "cell_type": "code",
      "source": [
        "#2 시험 성적\n",
        "score = int(input())\n",
        "\n",
        "if 100 >= score >= 90:\n",
        "    print(\"A\")\n",
        "elif 90 > score >= 80:\n",
        "    print(\"B\")\n",
        "elif 80 > score >= 70:\n",
        "    print(\"C\")\n",
        "elif 70 > score >= 60:\n",
        "    print(\"D\")\n",
        "else:\n",
        "    print(\"F\")"
      ],
      "metadata": {
        "colab": {
          "base_uri": "https://localhost:8080/"
        },
        "id": "WxndWUmr5FgI",
        "outputId": "bb71cbed-30d2-4037-9e9c-116792712cb0"
      },
      "execution_count": null,
      "outputs": [
        {
          "output_type": "stream",
          "name": "stdout",
          "text": [
            "92\n",
            "A\n"
          ]
        }
      ]
    },
    {
      "cell_type": "code",
      "source": [
        "#3 \t윤년\n",
        "y = int(input())\n",
        "\n",
        "if y%4== 0 and y%100 != 0 or y%400 == 0:\n",
        "\tprint('1')\n",
        "else:\n",
        "\tprint('0')"
      ],
      "metadata": {
        "colab": {
          "base_uri": "https://localhost:8080/"
        },
        "id": "rkc3MWTT5Fif",
        "outputId": "d1e256e9-bdee-4565-8530-85e37900f571"
      },
      "execution_count": null,
      "outputs": [
        {
          "output_type": "stream",
          "name": "stdout",
          "text": [
            "2002\n",
            "0\n"
          ]
        }
      ]
    },
    {
      "cell_type": "code",
      "source": [
        "#4 사분면 고르기\n",
        "x = int(input())\n",
        "y = int(input())\n",
        "\n",
        "if (0 <= x <= 1000) and (0 < y <= 1000):\n",
        "    print('1')\n",
        "elif (-1000 <= x <= 1000) and (0 < y <= 1000):\n",
        "    print('2')\n",
        "elif (-1000 <= x < 0) and (-1000 < y < 0):\n",
        "    print('3')\n",
        "else:\n",
        "    print('4')\n"
      ],
      "metadata": {
        "colab": {
          "base_uri": "https://localhost:8080/"
        },
        "id": "hK3cwr1L5Fkz",
        "outputId": "aae37e81-1e9d-44a9-e93d-065bda02c62f"
      },
      "execution_count": null,
      "outputs": [
        {
          "output_type": "stream",
          "name": "stdout",
          "text": [
            "78\n",
            "-24\n",
            "4\n"
          ]
        }
      ]
    },
    {
      "cell_type": "code",
      "source": [
        "#5 \t알람 시계\n",
        "h, m = map(int, input().split(\" \"))\n",
        "\n",
        "if m >= 45:\n",
        "    print(h, m-45)\n",
        "elif h == 0:\n",
        "    print(23, m+15)\n",
        "else:\n",
        "    print(h-1, m+15)"
      ],
      "metadata": {
        "colab": {
          "base_uri": "https://localhost:8080/"
        },
        "id": "GmF7kJ7a5Fng",
        "outputId": "0b8a39c1-3aaa-432b-a9b7-eac86b160068"
      },
      "execution_count": null,
      "outputs": [
        {
          "output_type": "stream",
          "name": "stdout",
          "text": [
            "23 41\n",
            "22 56\n"
          ]
        }
      ]
    },
    {
      "cell_type": "code",
      "source": [
        "#6 \t오븐 시계\n",
        "h, m = map(int, input().split())\n",
        "time = int(input())\n",
        "\n",
        "sum_val = h * 60 + m + time\n",
        "\n",
        "if sum_val // 60 >= 24:\n",
        "    print(sum_val // 60 -24, sum_val % 60)\n",
        "else:\n",
        "    print(sum_val // 60, sum_val % 60)\n"
      ],
      "metadata": {
        "colab": {
          "base_uri": "https://localhost:8080/"
        },
        "id": "dOBcsdrr5Fpb",
        "outputId": "98f5ce0d-3c66-4e4d-faa2-ec2b27dd7d5f"
      },
      "execution_count": null,
      "outputs": [
        {
          "output_type": "stream",
          "name": "stdout",
          "text": [
            "45 23\n",
            "21\n",
            "21 44\n"
          ]
        }
      ]
    },
    {
      "cell_type": "code",
      "source": [
        "#7 \t주사위 세개\n",
        "a,b,c=map(int, input().split())\n",
        "\n",
        "list=[0 for i in range(7)]\n",
        "\n",
        "i=0\n",
        "list[a]+=1\n",
        "list[b]+=1\n",
        "list[c]+=1\n",
        "\n",
        "sum=0\n",
        "\n",
        "for i in range(1, 7):\n",
        "  if list[i]==3:\n",
        "      sum=10000+1000*i\n",
        "      break\n",
        "  elif list[i]==2:\n",
        "      sum=1000+100*i\n",
        "      break\n",
        "  elif list[i]==1:\n",
        "      sum=100*i\n",
        "print(sum)  "
      ],
      "metadata": {
        "colab": {
          "base_uri": "https://localhost:8080/"
        },
        "id": "EgZPkkIv5Frw",
        "outputId": "db2229fb-7243-4ebc-db5f-7beac550a644"
      },
      "execution_count": null,
      "outputs": [
        {
          "output_type": "stream",
          "name": "stdout",
          "text": [
            "6 2 5\n",
            "600\n"
          ]
        }
      ]
    }
  ]
}